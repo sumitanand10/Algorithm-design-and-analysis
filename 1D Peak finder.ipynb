{
 "cells": [
  {
   "cell_type": "markdown",
   "metadata": {},
   "source": [
    "# Find a peak element"
   ]
  },
  {
   "cell_type": "markdown",
   "metadata": {},
   "source": [
    "for input array ```{5, 10, 20, 15}```, 20 is the only peak element. For input array ```{10, 20, 15, 2, 23, 90, 67}```, there are two peak elements: 20 and 90. Note that we need to return any one peak element."
   ]
  },
  {
   "cell_type": "markdown",
   "metadata": {},
   "source": [
    "Following corner cases give better idea about the problem.\n",
    "1. If input array is sorted in strictly increasing order, the last element is always a peak element. For example, 50 is peak element in ```{10, 20, 30, 40, 50}```.\n",
    "2. If input array is sorted in strictly decreasing order, the first element is always a peak element. 100 is the peak element in ```{100, 80, 60, 50, 20}```.\n",
    "3. If all elements of input array are same, every element is a peak element."
   ]
  },
  {
   "cell_type": "markdown",
   "metadata": {},
   "source": [
    "# A linear solution to this : Θ(n)"
   ]
  },
  {
   "cell_type": "markdown",
   "metadata": {},
   "source": [
    "Consider this (a-i) no's array\n",
    "<pre>\n",
    "                                            | a | b | c | d | e | f | g | h | i |  \n",
    "                                              0   1   2   3   4   5   6   7   8</pre>\n",
    "Position 2 is peak iff b >= a & b >= c\n",
    "\n",
    "Position 9 is peak iff i >= h"
   ]
  },
  {
   "cell_type": "code",
   "execution_count": 13,
   "metadata": {},
   "outputs": [
    {
     "name": "stdout",
     "output_type": "stream",
     "text": [
      "peak values of array :  20\n",
      "peak values of array :  4\n"
     ]
    }
   ],
   "source": [
    "def linearPeak(array):\n",
    "    for index in range(1, len(array)):\n",
    "        \n",
    "        if (index != len(array)-1 and array[index] >= array[index-1] and array[index] >= array[index+1]):\n",
    "            return array[index]\n",
    "        elif (index == len(array)-1):\n",
    "            return array[index]\n",
    "    return array[0]\n",
    "\n",
    "print(\"peak values of array : \",linearPeak([1, 3, 20, 4, 1, 0]))\n",
    "print(\"peak values of array : \",linearPeak([1, 3, 4, 3, 5, 1, 3]))\n",
    "#note : we'll only find one peak value"
   ]
  },
  {
   "cell_type": "markdown",
   "metadata": {},
   "source": [
    "# A Recursive solution to this : O($log(n)$)"
   ]
  },
  {
   "cell_type": "markdown",
   "metadata": {},
   "source": [
    "As the heading says, this is logarithmic, base 2 logarithmic to be exact. This means that somewhere in our algorithm we are dividing the set in two and doing so as n grows. So what might this mean, in terms of solving the problem? We're taking a divide and conquer approach! Just as you would with binary search. Binary search divides the array in half until it finds the correct element. Searching a phone book with 2^32 amount of records would take only 32 tries because we know it is sorted!\n",
    "\n",
    "The same approach is applicable for the peak finding. If we take a look at the set of numbers we have again: ```{1, 3, 4, 3, 5, 1, 3}``` we know that if we start in the middle we will look at the value 3, which is less than both 4 and 5. So what now? Which side do we jump to? We can jump to the left here and divide the set in half, leaving us with the following: ```{1, 3, 4}``` and we're in the middle so we've selected the three here. But, three is only larger than 1 and less than 4 so we have another step to do here and that is to jump to the right, this time we only have {4} left so this is our base case, we only have one item and such this is a peak.\n",
    "\n",
    "Here's a breakdown of the algorithm where a defines the array and n the amount of elements."
   ]
  },
  {
   "cell_type": "markdown",
   "metadata": {},
   "source": [
    "```python\n",
    "if a[n/2] < a[n/2 - 1] then only look at the left 1 ... n/2 - 1\n",
    "else if a[n/2] < a[n/2 + 1] then only look at the right n/2 +1 ... n\n",
    "else n/2 is a peak\n",
    "```"
   ]
  },
  {
   "cell_type": "code",
   "execution_count": 21,
   "metadata": {},
   "outputs": [
    {
     "name": "stdout",
     "output_type": "stream",
     "text": [
      "Index of a peak point is 2\n",
      "peak value is : 4\n"
     ]
    }
   ],
   "source": [
    "def recursivePeak(low, high, arr, size):\n",
    "    # Find index of middle element\n",
    "    mid = int((low + high)/2)\n",
    "    \n",
    "    # Compare middle element with its neighbours (if neighbours exist) \n",
    "    # if middle element is greater than neighbours return it\n",
    "    if ((mid == 0 or arr[mid - 1] <= arr[mid]) and (mid == size - 1 or arr[mid + 1] <= arr[mid])):\n",
    "        return mid\n",
    "    \n",
    "    # If middle element is not peak and its left neighbour is greater than it, then left half must have a peak element\n",
    "    elif (mid > 0 and arr[mid - 1] > arr[mid]):\n",
    "        return recursivePeak(low, (mid - 1), arr, size)\n",
    "    \n",
    "     # If middle element is not peak and its right neighbour is greater than it, then right half must have a peak element\n",
    "    else:\n",
    "        return recursivePeak((mid + 1), high, arr, size)\n",
    "    \n",
    "def findPeak(arr, size):\n",
    "    return recursivePeak(0, size - 1, arr, size)\n",
    "\n",
    "arr = [1, 3, 4, 3, 5, 1, 3]\n",
    "size = len(arr)\n",
    "print(\"Index of a peak point is\", findPeak(arr, size))\n",
    "print(\"peak value is :\", arr[findPeak(arr, size)])\n",
    "    "
   ]
  },
  {
   "cell_type": "code",
   "execution_count": null,
   "metadata": {},
   "outputs": [],
   "source": []
  }
 ],
 "metadata": {
  "kernelspec": {
   "display_name": "Python 3",
   "language": "python",
   "name": "python3"
  },
  "language_info": {
   "codemirror_mode": {
    "name": "ipython",
    "version": 3
   },
   "file_extension": ".py",
   "mimetype": "text/x-python",
   "name": "python",
   "nbconvert_exporter": "python",
   "pygments_lexer": "ipython3",
   "version": "3.6.3"
  }
 },
 "nbformat": 4,
 "nbformat_minor": 2
}
